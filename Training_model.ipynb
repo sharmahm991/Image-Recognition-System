{
 "cells": [
  {
   "cell_type": "code",
   "execution_count": 1,
   "id": "f32ac670-24e2-4938-969e-26ad7b2711b3",
   "metadata": {},
   "outputs": [],
   "source": [
    "#import useful libraries\n",
    "import numpy as np\n",
    "import matplotlib.pyplot as plt\n",
    "import tensorflow as tf\n",
    "import zipfile"
   ]
  },
  {
   "cell_type": "code",
   "execution_count": 35,
   "id": "0fd94f69-f4c0-42a4-86d8-caf5e60eef34",
   "metadata": {},
   "outputs": [
    {
     "name": "stdout",
     "output_type": "stream",
     "text": [
      "extracting all files\n",
      "done\n"
     ]
    }
   ],
   "source": [
    "#specifying the zip file name\n",
    "file_name = \"archive.zip\n",
    "#opening the zip file in read mode\n",
    "with zipfile.ZipFile(file_name,'r') as zip:\n",
    "    print(\"extracting all files\")\n",
    "    zip.extractall()\n",
    "    print(\"done\")"
   ]
  },
  {
   "cell_type": "code",
   "execution_count": 2,
   "id": "d7c7c154-a4f0-46b3-8f29-0cd77e753943",
   "metadata": {},
   "outputs": [
    {
     "name": "stdout",
     "output_type": "stream",
     "text": [
      "Found 3115 files belonging to 36 classes.\n"
     ]
    }
   ],
   "source": [
    "#training data preprocessing\n",
    "training_set = tf.keras.utils.image_dataset_from_directory(\n",
    "    'train',\n",
    "    labels=\"inferred\",\n",
    "    label_mode=\"categorical\",\n",
    "    class_names=None,\n",
    "    color_mode=\"rgb\",\n",
    "    batch_size=32,\n",
    "    image_size=(64, 64),\n",
    "    shuffle=True,\n",
    "    seed=None,\n",
    "    validation_split=None,\n",
    "    subset=None,\n",
    "    interpolation=\"bilinear\",\n",
    "    follow_links=False,\n",
    "    crop_to_aspect_ratio=False,\n",
    "    pad_to_aspect_ratio=False,\n",
    "    data_format=None,\n",
    "    verbose=True,\n",
    ")"
   ]
  },
  {
   "cell_type": "code",
   "execution_count": 3,
   "id": "e182737e-29ef-48b1-aa97-0a4fa5423e0a",
   "metadata": {},
   "outputs": [
    {
     "name": "stdout",
     "output_type": "stream",
     "text": [
      "Found 351 files belonging to 36 classes.\n"
     ]
    }
   ],
   "source": [
    "#validation data preprocessing\n",
    "validation_set = tf.keras.utils.image_dataset_from_directory(\n",
    "    'validation',\n",
    "    labels=\"inferred\",\n",
    "    label_mode=\"categorical\",\n",
    "    class_names=None,\n",
    "    color_mode=\"rgb\",\n",
    "    batch_size=32,\n",
    "    image_size=(64, 64),\n",
    "    shuffle=True,\n",
    "    seed=None,\n",
    "    validation_split=None,\n",
    "    subset=None,\n",
    "    interpolation=\"bilinear\",\n",
    "    follow_links=False,\n",
    "    crop_to_aspect_ratio=False,\n",
    "    pad_to_aspect_ratio=False,\n",
    "    data_format=None,\n",
    "    verbose=True,\n",
    ")"
   ]
  },
  {
   "cell_type": "code",
   "execution_count": 4,
   "id": "42ad6e26-f01e-4500-b37a-ce236b17378b",
   "metadata": {},
   "outputs": [],
   "source": [
    "#building maodel\n",
    "cnn = tf.keras.models.Sequential()"
   ]
  },
  {
   "cell_type": "code",
   "execution_count": 5,
   "id": "96720821-99b9-47b3-b6a0-43fe3b3c97ef",
   "metadata": {},
   "outputs": [],
   "source": [
    "# apply normalization technique in the first layer (it will automatically normalize our image dataset pixels into 0-1)\n",
    "cnn = tf.keras.Sequential([tf.keras.layers.Rescaling(1.0/255)])"
   ]
  },
  {
   "cell_type": "code",
   "execution_count": 6,
   "id": "936ab7a2-7f34-48a4-a53e-ce17b2b84f29",
   "metadata": {},
   "outputs": [],
   "source": [
    "#here we are decreasing the size of the matrix so that we can use those features which are important for our model\n",
    "cnn.add(tf.keras.layers.Conv2D(filters = 64,kernel_size = 3,activation = 'relu'))\n",
    "cnn.add(tf.keras.layers.MaxPool2D(pool_size = 2,strides = 2))"
   ]
  },
  {
   "cell_type": "code",
   "execution_count": 7,
   "id": "784d01f9-ff48-4c99-b468-81dbb0d2c0ab",
   "metadata": {},
   "outputs": [],
   "source": [
    "#to avoid overfitting we are passing these arguments\n",
    "cnn.add(tf.keras.layers.Dropout(0.5))"
   ]
  },
  {
   "cell_type": "code",
   "execution_count": 8,
   "id": "588ea7a0-6beb-4744-93d7-2191f4e72d24",
   "metadata": {},
   "outputs": [],
   "source": [
    "#here we are flattenning our matrix\n",
    "cnn.add(tf.keras.layers.Flatten())"
   ]
  },
  {
   "cell_type": "code",
   "execution_count": 9,
   "id": "f022b035-35ea-4dad-b5f2-c3676d6351b6",
   "metadata": {},
   "outputs": [],
   "source": [
    "#making the neurons\n",
    "cnn.add(tf.keras.layers.Dense(units = 128,activation =  'relu'))"
   ]
  },
  {
   "cell_type": "code",
   "execution_count": 10,
   "id": "6b2fd231-6686-41e0-a52c-96108c18b17d",
   "metadata": {},
   "outputs": [],
   "source": [
    "#collect output layer\n",
    "cnn.add(tf.keras.layers.Dense(units = 36,activation = 'softmax'))"
   ]
  },
  {
   "cell_type": "code",
   "execution_count": 11,
   "id": "a4ac573f-6398-4efb-83d2-9712f2053bbf",
   "metadata": {},
   "outputs": [],
   "source": [
    "#compilling phase\n",
    "cnn.compile(optimizer = 'rmsprop',loss = 'categorical_crossentropy',metrics = ['accuracy'])"
   ]
  },
  {
   "cell_type": "code",
   "execution_count": 23,
   "id": "478f2347-63c6-4d95-bb7d-5bc208c90204",
   "metadata": {},
   "outputs": [
    {
     "name": "stdout",
     "output_type": "stream",
     "text": [
      "Epoch 1/30\n",
      "\u001b[1m98/98\u001b[0m \u001b[32m━━━━━━━━━━━━━━━━━━━━\u001b[0m\u001b[37m\u001b[0m \u001b[1m16s\u001b[0m 156ms/step - accuracy: 0.0498 - loss: 4.6706 - val_accuracy: 0.1368 - val_loss: 3.0682\n",
      "Epoch 2/30\n",
      "\u001b[1m98/98\u001b[0m \u001b[32m━━━━━━━━━━━━━━━━━━━━\u001b[0m\u001b[37m\u001b[0m \u001b[1m16s\u001b[0m 156ms/step - accuracy: 0.1871 - loss: 2.9071 - val_accuracy: 0.3647 - val_loss: 2.1572\n",
      "Epoch 3/30\n",
      "\u001b[1m98/98\u001b[0m \u001b[32m━━━━━━━━━━━━━━━━━━━━\u001b[0m\u001b[37m\u001b[0m \u001b[1m16s\u001b[0m 156ms/step - accuracy: 0.3429 - loss: 2.3098 - val_accuracy: 0.5527 - val_loss: 1.6305\n",
      "Epoch 4/30\n",
      "\u001b[1m98/98\u001b[0m \u001b[32m━━━━━━━━━━━━━━━━━━━━\u001b[0m\u001b[37m\u001b[0m \u001b[1m16s\u001b[0m 160ms/step - accuracy: 0.4677 - loss: 1.8860 - val_accuracy: 0.6068 - val_loss: 1.4812\n",
      "Epoch 5/30\n",
      "\u001b[1m98/98\u001b[0m \u001b[32m━━━━━━━━━━━━━━━━━━━━\u001b[0m\u001b[37m\u001b[0m \u001b[1m16s\u001b[0m 157ms/step - accuracy: 0.5966 - loss: 1.4819 - val_accuracy: 0.7436 - val_loss: 0.9442\n",
      "Epoch 6/30\n",
      "\u001b[1m98/98\u001b[0m \u001b[32m━━━━━━━━━━━━━━━━━━━━\u001b[0m\u001b[37m\u001b[0m \u001b[1m16s\u001b[0m 156ms/step - accuracy: 0.6869 - loss: 1.1550 - val_accuracy: 0.8917 - val_loss: 0.5912\n",
      "Epoch 7/30\n",
      "\u001b[1m98/98\u001b[0m \u001b[32m━━━━━━━━━━━━━━━━━━━━\u001b[0m\u001b[37m\u001b[0m \u001b[1m16s\u001b[0m 159ms/step - accuracy: 0.7965 - loss: 0.8191 - val_accuracy: 0.8917 - val_loss: 0.5277\n",
      "Epoch 8/30\n",
      "\u001b[1m98/98\u001b[0m \u001b[32m━━━━━━━━━━━━━━━━━━━━\u001b[0m\u001b[37m\u001b[0m \u001b[1m16s\u001b[0m 158ms/step - accuracy: 0.8641 - loss: 0.5505 - val_accuracy: 0.9288 - val_loss: 0.4200\n",
      "Epoch 9/30\n",
      "\u001b[1m98/98\u001b[0m \u001b[32m━━━━━━━━━━━━━━━━━━━━\u001b[0m\u001b[37m\u001b[0m \u001b[1m16s\u001b[0m 160ms/step - accuracy: 0.8936 - loss: 0.4281 - val_accuracy: 0.9174 - val_loss: 0.3837\n",
      "Epoch 10/30\n",
      "\u001b[1m98/98\u001b[0m \u001b[32m━━━━━━━━━━━━━━━━━━━━\u001b[0m\u001b[37m\u001b[0m \u001b[1m16s\u001b[0m 159ms/step - accuracy: 0.9312 - loss: 0.3114 - val_accuracy: 0.9316 - val_loss: 0.3645\n",
      "Epoch 11/30\n",
      "\u001b[1m98/98\u001b[0m \u001b[32m━━━━━━━━━━━━━━━━━━━━\u001b[0m\u001b[37m\u001b[0m \u001b[1m16s\u001b[0m 158ms/step - accuracy: 0.9573 - loss: 0.1951 - val_accuracy: 0.9544 - val_loss: 0.2867\n",
      "Epoch 12/30\n",
      "\u001b[1m98/98\u001b[0m \u001b[32m━━━━━━━━━━━━━━━━━━━━\u001b[0m\u001b[37m\u001b[0m \u001b[1m16s\u001b[0m 155ms/step - accuracy: 0.9657 - loss: 0.1626 - val_accuracy: 0.9544 - val_loss: 0.3048\n",
      "Epoch 13/30\n",
      "\u001b[1m98/98\u001b[0m \u001b[32m━━━━━━━━━━━━━━━━━━━━\u001b[0m\u001b[37m\u001b[0m \u001b[1m16s\u001b[0m 161ms/step - accuracy: 0.9755 - loss: 0.1145 - val_accuracy: 0.9601 - val_loss: 0.2818\n",
      "Epoch 14/30\n",
      "\u001b[1m98/98\u001b[0m \u001b[32m━━━━━━━━━━━━━━━━━━━━\u001b[0m\u001b[37m\u001b[0m \u001b[1m16s\u001b[0m 162ms/step - accuracy: 0.9792 - loss: 0.0968 - val_accuracy: 0.9601 - val_loss: 0.2920\n",
      "Epoch 15/30\n",
      "\u001b[1m98/98\u001b[0m \u001b[32m━━━━━━━━━━━━━━━━━━━━\u001b[0m\u001b[37m\u001b[0m \u001b[1m16s\u001b[0m 160ms/step - accuracy: 0.9772 - loss: 0.0915 - val_accuracy: 0.9601 - val_loss: 0.3027\n",
      "Epoch 16/30\n",
      "\u001b[1m98/98\u001b[0m \u001b[32m━━━━━━━━━━━━━━━━━━━━\u001b[0m\u001b[37m\u001b[0m \u001b[1m16s\u001b[0m 155ms/step - accuracy: 0.9839 - loss: 0.0708 - val_accuracy: 0.9601 - val_loss: 0.3136\n",
      "Epoch 17/30\n",
      "\u001b[1m98/98\u001b[0m \u001b[32m━━━━━━━━━━━━━━━━━━━━\u001b[0m\u001b[37m\u001b[0m \u001b[1m16s\u001b[0m 159ms/step - accuracy: 0.9827 - loss: 0.0665 - val_accuracy: 0.9630 - val_loss: 0.3455\n",
      "Epoch 18/30\n",
      "\u001b[1m98/98\u001b[0m \u001b[32m━━━━━━━━━━━━━━━━━━━━\u001b[0m\u001b[37m\u001b[0m \u001b[1m16s\u001b[0m 162ms/step - accuracy: 0.9885 - loss: 0.0580 - val_accuracy: 0.9601 - val_loss: 0.2808\n",
      "Epoch 19/30\n",
      "\u001b[1m98/98\u001b[0m \u001b[32m━━━━━━━━━━━━━━━━━━━━\u001b[0m\u001b[37m\u001b[0m \u001b[1m16s\u001b[0m 163ms/step - accuracy: 0.9875 - loss: 0.0524 - val_accuracy: 0.9601 - val_loss: 0.3577\n",
      "Epoch 20/30\n",
      "\u001b[1m98/98\u001b[0m \u001b[32m━━━━━━━━━━━━━━━━━━━━\u001b[0m\u001b[37m\u001b[0m \u001b[1m16s\u001b[0m 160ms/step - accuracy: 0.9903 - loss: 0.0489 - val_accuracy: 0.9630 - val_loss: 0.3791\n",
      "Epoch 21/30\n",
      "\u001b[1m98/98\u001b[0m \u001b[32m━━━━━━━━━━━━━━━━━━━━\u001b[0m\u001b[37m\u001b[0m \u001b[1m16s\u001b[0m 164ms/step - accuracy: 0.9899 - loss: 0.0526 - val_accuracy: 0.9601 - val_loss: 0.3363\n",
      "Epoch 22/30\n",
      "\u001b[1m98/98\u001b[0m \u001b[32m━━━━━━━━━━━━━━━━━━━━\u001b[0m\u001b[37m\u001b[0m \u001b[1m17s\u001b[0m 169ms/step - accuracy: 0.9897 - loss: 0.0409 - val_accuracy: 0.9601 - val_loss: 0.3500\n",
      "Epoch 23/30\n",
      "\u001b[1m98/98\u001b[0m \u001b[32m━━━━━━━━━━━━━━━━━━━━\u001b[0m\u001b[37m\u001b[0m \u001b[1m16s\u001b[0m 165ms/step - accuracy: 0.9870 - loss: 0.0453 - val_accuracy: 0.9601 - val_loss: 0.3588\n",
      "Epoch 24/30\n",
      "\u001b[1m98/98\u001b[0m \u001b[32m━━━━━━━━━━━━━━━━━━━━\u001b[0m\u001b[37m\u001b[0m \u001b[1m16s\u001b[0m 162ms/step - accuracy: 0.9897 - loss: 0.0400 - val_accuracy: 0.9544 - val_loss: 0.3640\n",
      "Epoch 25/30\n",
      "\u001b[1m98/98\u001b[0m \u001b[32m━━━━━━━━━━━━━━━━━━━━\u001b[0m\u001b[37m\u001b[0m \u001b[1m16s\u001b[0m 157ms/step - accuracy: 0.9882 - loss: 0.0626 - val_accuracy: 0.9630 - val_loss: 0.3547\n",
      "Epoch 26/30\n",
      "\u001b[1m98/98\u001b[0m \u001b[32m━━━━━━━━━━━━━━━━━━━━\u001b[0m\u001b[37m\u001b[0m \u001b[1m16s\u001b[0m 160ms/step - accuracy: 0.9917 - loss: 0.0309 - val_accuracy: 0.9601 - val_loss: 0.3439\n",
      "Epoch 27/30\n",
      "\u001b[1m98/98\u001b[0m \u001b[32m━━━━━━━━━━━━━━━━━━━━\u001b[0m\u001b[37m\u001b[0m \u001b[1m16s\u001b[0m 161ms/step - accuracy: 0.9891 - loss: 0.0397 - val_accuracy: 0.9601 - val_loss: 0.3438\n",
      "Epoch 28/30\n",
      "\u001b[1m98/98\u001b[0m \u001b[32m━━━━━━━━━━━━━━━━━━━━\u001b[0m\u001b[37m\u001b[0m \u001b[1m16s\u001b[0m 160ms/step - accuracy: 0.9902 - loss: 0.0357 - val_accuracy: 0.9601 - val_loss: 0.3933\n",
      "Epoch 29/30\n",
      "\u001b[1m98/98\u001b[0m \u001b[32m━━━━━━━━━━━━━━━━━━━━\u001b[0m\u001b[37m\u001b[0m \u001b[1m16s\u001b[0m 158ms/step - accuracy: 0.9882 - loss: 0.0509 - val_accuracy: 0.9601 - val_loss: 0.3914\n",
      "Epoch 30/30\n",
      "\u001b[1m98/98\u001b[0m \u001b[32m━━━━━━━━━━━━━━━━━━━━\u001b[0m\u001b[37m\u001b[0m \u001b[1m16s\u001b[0m 160ms/step - accuracy: 0.9917 - loss: 0.0367 - val_accuracy: 0.9601 - val_loss: 0.3834\n"
     ]
    }
   ],
   "source": [
    "#trainning phase\n",
    "training_history = cnn.fit(x = training_set,validation_data  = validation_set,epochs = 30)"
   ]
  },
  {
   "cell_type": "code",
   "execution_count": 40,
   "id": "844149a0-c039-491a-b5af-064fc170a38d",
   "metadata": {},
   "outputs": [
    {
     "name": "stderr",
     "output_type": "stream",
     "text": [
      "WARNING:absl:You are saving your model as an HDF5 file via `model.save()` or `keras.saving.save_model(model)`. This file format is considered legacy. We recommend using instead the native Keras format, e.g. `model.save('my_model.keras')` or `keras.saving.save_model(model, 'my_model.keras')`. \n"
     ]
    }
   ],
   "source": [
    "#saving the model in h5 file\n",
    "cnn.save('trained_model.h5')"
   ]
  },
  {
   "cell_type": "code",
   "execution_count": 41,
   "id": "a7302c39-6a33-4a4f-bd65-94e709650055",
   "metadata": {},
   "outputs": [],
   "source": [
    "#saving the model in keras file\n",
    "cnn.save('trained_model.keras')"
   ]
  },
  {
   "cell_type": "code",
   "execution_count": 42,
   "id": "df910f38-fae7-4e55-9750-8076c7c21fff",
   "metadata": {},
   "outputs": [
    {
     "data": {
      "text/plain": [
       "{'accuracy': [0.0789727121591568,\n",
       "  0.2276083528995514,\n",
       "  0.37945425510406494,\n",
       "  0.5027287602424622,\n",
       "  0.6263242363929749,\n",
       "  0.7219903469085693,\n",
       "  0.8080256581306458,\n",
       "  0.8754414319992065,\n",
       "  0.9094703197479248,\n",
       "  0.9434992074966431,\n",
       "  0.9617977738380432,\n",
       "  0.9691813588142395,\n",
       "  0.9784911870956421,\n",
       "  0.9823434948921204,\n",
       "  0.9829855561256409,\n",
       "  0.9826645255088806,\n",
       "  0.9829855561256409,\n",
       "  0.9861958026885986,\n",
       "  0.9861958026885986,\n",
       "  0.9890850782394409,\n",
       "  0.9871588945388794,\n",
       "  0.9894061088562012,\n",
       "  0.9861958026885986,\n",
       "  0.9884430170059204,\n",
       "  0.9906902313232422,\n",
       "  0.9903692007064819,\n",
       "  0.9894061088562012,\n",
       "  0.9878009557723999,\n",
       "  0.9887640476226807,\n",
       "  0.9903692007064819],\n",
       " 'loss': [3.708897829055786,\n",
       "  2.743440866470337,\n",
       "  2.198263645172119,\n",
       "  1.7792617082595825,\n",
       "  1.391789197921753,\n",
       "  1.051700234413147,\n",
       "  0.7503334879875183,\n",
       "  0.5110574960708618,\n",
       "  0.3714473843574524,\n",
       "  0.26428183913230896,\n",
       "  0.17782258987426758,\n",
       "  0.14378316700458527,\n",
       "  0.1029161810874939,\n",
       "  0.084499791264534,\n",
       "  0.07134522497653961,\n",
       "  0.07350700348615646,\n",
       "  0.06256372481584549,\n",
       "  0.059359315782785416,\n",
       "  0.05324525758624077,\n",
       "  0.04754141345620155,\n",
       "  0.055202435702085495,\n",
       "  0.042574383318424225,\n",
       "  0.046375103294849396,\n",
       "  0.04081978276371956,\n",
       "  0.048299212008714676,\n",
       "  0.03273749351501465,\n",
       "  0.03853480890393257,\n",
       "  0.036192428320646286,\n",
       "  0.045151613652706146,\n",
       "  0.036426786333322525],\n",
       " 'val_accuracy': [0.1367521435022354,\n",
       "  0.36467236280441284,\n",
       "  0.5527065396308899,\n",
       "  0.6068376302719116,\n",
       "  0.7435897588729858,\n",
       "  0.8917378783226013,\n",
       "  0.8917378783226013,\n",
       "  0.9287749528884888,\n",
       "  0.9173789024353027,\n",
       "  0.9316239356994629,\n",
       "  0.9544159770011902,\n",
       "  0.9544159770011902,\n",
       "  0.9601139426231384,\n",
       "  0.9601139426231384,\n",
       "  0.9601139426231384,\n",
       "  0.9601139426231384,\n",
       "  0.9629629850387573,\n",
       "  0.9601139426231384,\n",
       "  0.9601139426231384,\n",
       "  0.9629629850387573,\n",
       "  0.9601139426231384,\n",
       "  0.9601139426231384,\n",
       "  0.9601139426231384,\n",
       "  0.9544159770011902,\n",
       "  0.9629629850387573,\n",
       "  0.9601139426231384,\n",
       "  0.9601139426231384,\n",
       "  0.9601139426231384,\n",
       "  0.9601139426231384,\n",
       "  0.9601139426231384],\n",
       " 'val_loss': [3.0682053565979004,\n",
       "  2.157155752182007,\n",
       "  1.6304659843444824,\n",
       "  1.4812026023864746,\n",
       "  0.9442293643951416,\n",
       "  0.5911543369293213,\n",
       "  0.5276522040367126,\n",
       "  0.4200330674648285,\n",
       "  0.38373690843582153,\n",
       "  0.36447077989578247,\n",
       "  0.2866721451282501,\n",
       "  0.30477985739707947,\n",
       "  0.2817673981189728,\n",
       "  0.292044073343277,\n",
       "  0.30267247557640076,\n",
       "  0.3136448562145233,\n",
       "  0.34546688199043274,\n",
       "  0.28078585863113403,\n",
       "  0.35765939950942993,\n",
       "  0.3790633976459503,\n",
       "  0.3362567722797394,\n",
       "  0.35004034638404846,\n",
       "  0.35875219106674194,\n",
       "  0.3640025556087494,\n",
       "  0.3547070622444153,\n",
       "  0.34391528367996216,\n",
       "  0.34377703070640564,\n",
       "  0.3933436870574951,\n",
       "  0.39143967628479004,\n",
       "  0.3834483325481415]}"
      ]
     },
     "execution_count": 42,
     "metadata": {},
     "output_type": "execute_result"
    }
   ],
   "source": [
    "#creating the history of the model\n",
    "training_history.history"
   ]
  },
  {
   "cell_type": "code",
   "execution_count": 43,
   "id": "42cdd39f-a0b2-4aeb-a0e1-8f1ee647c52e",
   "metadata": {},
   "outputs": [],
   "source": [
    "#recordinng the history of the model\n",
    "import json\n",
    "with open('training_hist.json','w') as f:\n",
    "    json.dump(training_history.history,f)"
   ]
  },
  {
   "cell_type": "code",
   "execution_count": 44,
   "id": "4d7cda55-ec12-457f-af61-5e8a3da98dd6",
   "metadata": {},
   "outputs": [
    {
     "name": "stdout",
     "output_type": "stream",
     "text": [
      "validation set Accuracy : 96.01139426231384 %\n"
     ]
    }
   ],
   "source": [
    "#calculating the accuracy of the the model achieved on validation\n",
    "print(\"validation set Accuracy : {} %\".format(training_history.history['val_accuracy'][-1]*100))"
   ]
  },
  {
   "cell_type": "code",
   "execution_count": 45,
   "id": "36c51b4f-64dd-4fe4-9a52-0906f508b933",
   "metadata": {},
   "outputs": [
    {
     "data": {
      "image/png": "[encoded data removed]",
      "text/plain": [
       "<Figure size 640x480 with 1 Axes>"
      ]
     },
     "metadata": {},
     "output_type": "display_data"
    }
   ],
   "source": [
    "#visulisation of the training accuracy\n",
    "epochs = [i for i in range(1,31)]\n",
    "plt.plot(epochs,training_history.history['accuracy'],color = 'red')\n",
    "plt.xlabel('no. of epochs')\n",
    "plt.ylabel('Training Accuracy')\n",
    "plt.title('Visulisation of the Training Accuracy Result')\n",
    "plt.show()"
   ]
  },
  {
   "cell_type": "code",
   "execution_count": 46,
   "id": "a5572ae3-94ae-4bf7-9504-f1ae282c3f8b",
   "metadata": {},
   "outputs": [
    {
     "data": {
      "image/png": "[encoded data removed]",
      "text/plain": [
       "<Figure size 640x480 with 1 Axes>"
      ]
     },
     "metadata": {},
     "output_type": "display_data"
    }
   ],
   "source": [
    "#visulisation of validation accuracy\n",
    "plt.plot(epochs,training_history.history['val_accuracy'],color = 'blue')\n",
    "plt.xlabel('No. of Epochs')\n",
    "plt.ylabel('Validation Accuracy')\n",
    "plt.title('Visulisation of validation Accuracy Result')\n",
    "plt.show()"
   ]
  },
  {
   "cell_type": "code",
   "execution_count": null,
   "id": "fd6dc345-ee21-4de6-8b34-af3068798d44",
   "metadata": {},
   "outputs": [],
   "source": []
  }
 ],
 "metadata": {
  "kernelspec": {
   "display_name": "Python 3 (ipykernel)",
   "language": "python",
   "name": "python3"
  },
  "language_info": {
   "codemirror_mode": {
    "name": "ipython",
    "version": 3
   },
   "file_extension": ".py",
   "mimetype": "text/x-python",
   "name": "python",
   "nbconvert_exporter": "python",
   "pygments_lexer": "ipython3",
   "version": "3.12.3"
  }
 },
 "nbformat": 4,
 "nbformat_minor": 5
}
