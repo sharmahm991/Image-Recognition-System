{
 "cells": [
  {
   "cell_type": "code",
   "execution_count": 1,
   "id": "a9785b84-544d-4fc8-ba91-826e3c71835c",
   "metadata": {},
   "outputs": [],
   "source": [
    "import numpy as np\n",
    "import matplotlib.pyplot as plt\n",
    "import tensorflow as tf\n",
    "import zipfile"
   ]
  },
  {
   "cell_type": "code",
   "execution_count": 5,
   "id": "88acbe9a-8102-4482-b83c-030ecc384f5e",
   "metadata": {},
   "outputs": [
    {
     "name": "stdout",
     "output_type": "stream",
     "text": [
      "extracting all files\n",
      "done\n"
     ]
    }
   ],
   "source": [
    "#specifying the zip file name\n",
    "file_name = \"archive.zip\"\n",
    "#opening the zip file in read mode\n",
    "with zipfile.ZipFile(file_name,'r') as zip:\n",
    "    print(\"extracting all files\")\n",
    "    zip.extractall()\n",
    "    print(\"done\")"
   ]
  },
  {
   "cell_type": "code",
   "execution_count": 2,
   "id": "ab0db865-b2b4-45a6-ad8c-2bb18a493f79",
   "metadata": {},
   "outputs": [
    {
     "name": "stdout",
     "output_type": "stream",
     "text": [
      "Found 3115 files belonging to 36 classes.\n"
     ]
    }
   ],
   "source": [
    "#training data preprocessing\n",
    "training_set = tf.keras.utils.image_dataset_from_directory(\n",
    "    'train',\n",
    "    labels=\"inferred\",\n",
    "    label_mode=\"categorical\",\n",
    "    class_names=None,\n",
    "    color_mode=\"rgb\",\n",
    "    batch_size=32,\n",
    "    image_size=(64, 64),\n",
    "    shuffle=True,\n",
    "    seed=None,\n",
    "    validation_split=None,\n",
    "    subset=None,\n",
    "    interpolation=\"bilinear\",\n",
    "    follow_links=False,\n",
    "    crop_to_aspect_ratio=False,\n",
    "    pad_to_aspect_ratio=False,\n",
    "    data_format=None,\n",
    "    verbose=True,\n",
    ")"
   ]
  },
  {
   "cell_type": "code",
   "execution_count": 3,
   "id": "5d7f5bc3-18e7-420b-873f-e3fc62755764",
   "metadata": {},
   "outputs": [
    {
     "name": "stdout",
     "output_type": "stream",
     "text": [
      "Found 351 files belonging to 36 classes.\n"
     ]
    }
   ],
   "source": [
    "#validation data preprocessing\n",
    "validation_set = tf.keras.utils.image_dataset_from_directory(\n",
    "    'validation',\n",
    "    labels=\"inferred\",\n",
    "    label_mode=\"categorical\",\n",
    "    class_names=None,\n",
    "    color_mode=\"rgb\",\n",
    "    batch_size=32,\n",
    "    image_size=(64, 64),\n",
    "    shuffle=True,\n",
    "    seed=None,\n",
    "    validation_split=None,\n",
    "    subset=None,\n",
    "    interpolation=\"bilinear\",\n",
    "    follow_links=False,\n",
    "    crop_to_aspect_ratio=False,\n",
    "    pad_to_aspect_ratio=False,\n",
    "    data_format=None,\n",
    "    verbose=True,\n",
    ")"
   ]
  },
  {
   "cell_type": "code",
   "execution_count": 4,
   "id": "6748dd1f-cf5f-4276-b204-849238b134dc",
   "metadata": {},
   "outputs": [],
   "source": [
    "#building maodel\n",
    "cnn = tf.keras.models.Sequential()"
   ]
  },
  {
   "cell_type": "code",
   "execution_count": 5,
   "id": "87853664-a8e0-4d50-b44b-4daaf31d9de5",
   "metadata": {},
   "outputs": [],
   "source": [
    "#here we are decreasing the size of the matrix so that we can use those features which are important for our model\n",
    "cnn.add(tf.keras.layers.Conv2D(filters = 64,kernel_size = 3,activation = 'relu'))\n",
    "cnn.add(tf.keras.layers.MaxPool2D(pool_size = 2,strides = 2))"
   ]
  },
  {
   "cell_type": "code",
   "execution_count": 6,
   "id": "ceba100b-2413-414f-9172-9bd44c19d11c",
   "metadata": {},
   "outputs": [],
   "source": [
    "#to avoid overfitting we are passing these arguments\n",
    "cnn.add(tf.keras.layers.Dropout(0.5))"
   ]
  },
  {
   "cell_type": "code",
   "execution_count": 7,
   "id": "04d6388b-0113-403d-a088-639fc6281360",
   "metadata": {},
   "outputs": [],
   "source": [
    "#here we are flattenning our matrix\n",
    "cnn.add(tf.keras.layers.Flatten())"
   ]
  },
  {
   "cell_type": "code",
   "execution_count": 8,
   "id": "f6d5d2ea-20a6-4126-9d71-98c33dd8c905",
   "metadata": {},
   "outputs": [],
   "source": [
    "#making the neurons\n",
    "cnn.add(tf.keras.layers.Dense(units = 128,activation =  'relu'))"
   ]
  },
  {
   "cell_type": "code",
   "execution_count": 9,
   "id": "c62a8f22-b542-4647-aa4f-576297d552e1",
   "metadata": {},
   "outputs": [],
   "source": [
    "#collect output layer\n",
    "cnn.add(tf.keras.layers.Dense(units = 36,activation = 'softmax'))"
   ]
  },
  {
   "cell_type": "code",
   "execution_count": 14,
   "id": "80a9ee97-f1d5-4508-92e8-043446810e22",
   "metadata": {},
   "outputs": [],
   "source": [
    "#compilling phase\n",
    "cnn.compile(optimizer = 'rmsprop',loss = 'categorical_crossentropy',metrics = ['accuracy'])"
   ]
  },
  {
   "cell_type": "code",
   "execution_count": 15,
   "id": "44e03781-ecea-49d5-9bf3-1190b8802091",
   "metadata": {},
   "outputs": [
    {
     "name": "stdout",
     "output_type": "stream",
     "text": [
      "Epoch 1/30\n",
      "\u001b[1m98/98\u001b[0m \u001b[32m━━━━━━━━━━━━━━━━━━━━\u001b[0m\u001b[37m\u001b[0m \u001b[1m19s\u001b[0m 186ms/step - accuracy: 0.0289 - loss: 582.5944 - val_accuracy: 0.0342 - val_loss: 3.5771\n",
      "Epoch 2/30\n",
      "\u001b[1m98/98\u001b[0m \u001b[32m━━━━━━━━━━━━━━━━━━━━\u001b[0m\u001b[37m\u001b[0m \u001b[1m16s\u001b[0m 159ms/step - accuracy: 0.0287 - loss: 3.7160 - val_accuracy: 0.0342 - val_loss: 3.5685\n",
      "Epoch 3/30\n",
      "\u001b[1m98/98\u001b[0m \u001b[32m━━━━━━━━━━━━━━━━━━━━\u001b[0m\u001b[37m\u001b[0m \u001b[1m17s\u001b[0m 176ms/step - accuracy: 0.0345 - loss: 3.6642 - val_accuracy: 0.0285 - val_loss: 3.5837\n",
      "Epoch 4/30\n",
      "\u001b[1m98/98\u001b[0m \u001b[32m━━━━━━━━━━━━━━━━━━━━\u001b[0m\u001b[37m\u001b[0m \u001b[1m16s\u001b[0m 161ms/step - accuracy: 0.0331 - loss: 3.6512 - val_accuracy: 0.0256 - val_loss: 3.5839\n",
      "Epoch 5/30\n",
      "\u001b[1m98/98\u001b[0m \u001b[32m━━━━━━━━━━━━━━━━━━━━\u001b[0m\u001b[37m\u001b[0m \u001b[1m16s\u001b[0m 158ms/step - accuracy: 0.0339 - loss: 3.5827 - val_accuracy: 0.0256 - val_loss: 3.5841\n",
      "Epoch 6/30\n",
      "\u001b[1m98/98\u001b[0m \u001b[32m━━━━━━━━━━━━━━━━━━━━\u001b[0m\u001b[37m\u001b[0m \u001b[1m15s\u001b[0m 155ms/step - accuracy: 0.0355 - loss: 6.0714 - val_accuracy: 0.0256 - val_loss: 3.5843\n",
      "Epoch 7/30\n",
      "\u001b[1m98/98\u001b[0m \u001b[32m━━━━━━━━━━━━━━━━━━━━\u001b[0m\u001b[37m\u001b[0m \u001b[1m15s\u001b[0m 155ms/step - accuracy: 0.0333 - loss: 3.5770 - val_accuracy: 0.0256 - val_loss: 3.5846\n",
      "Epoch 8/30\n",
      "\u001b[1m98/98\u001b[0m \u001b[32m━━━━━━━━━━━━━━━━━━━━\u001b[0m\u001b[37m\u001b[0m \u001b[1m16s\u001b[0m 156ms/step - accuracy: 0.0368 - loss: 3.5747 - val_accuracy: 0.0256 - val_loss: 3.5848\n",
      "Epoch 9/30\n",
      "\u001b[1m98/98\u001b[0m \u001b[32m━━━━━━━━━━━━━━━━━━━━\u001b[0m\u001b[37m\u001b[0m \u001b[1m15s\u001b[0m 155ms/step - accuracy: 0.0346 - loss: 3.5756 - val_accuracy: 0.0256 - val_loss: 3.5851\n",
      "Epoch 10/30\n",
      "\u001b[1m98/98\u001b[0m \u001b[32m━━━━━━━━━━━━━━━━━━━━\u001b[0m\u001b[37m\u001b[0m \u001b[1m16s\u001b[0m 162ms/step - accuracy: 0.0336 - loss: 3.5751 - val_accuracy: 0.0256 - val_loss: 3.5853\n",
      "Epoch 11/30\n",
      "\u001b[1m98/98\u001b[0m \u001b[32m━━━━━━━━━━━━━━━━━━━━\u001b[0m\u001b[37m\u001b[0m \u001b[1m16s\u001b[0m 164ms/step - accuracy: 0.0330 - loss: 3.5755 - val_accuracy: 0.0256 - val_loss: 3.5855\n",
      "Epoch 12/30\n",
      "\u001b[1m98/98\u001b[0m \u001b[32m━━━━━━━━━━━━━━━━━━━━\u001b[0m\u001b[37m\u001b[0m \u001b[1m16s\u001b[0m 160ms/step - accuracy: 0.0334 - loss: 3.5750 - val_accuracy: 0.0256 - val_loss: 3.5858\n",
      "Epoch 13/30\n",
      "\u001b[1m98/98\u001b[0m \u001b[32m━━━━━━━━━━━━━━━━━━━━\u001b[0m\u001b[37m\u001b[0m \u001b[1m16s\u001b[0m 158ms/step - accuracy: 0.0353 - loss: 3.5747 - val_accuracy: 0.0256 - val_loss: 3.5860\n",
      "Epoch 14/30\n",
      "\u001b[1m98/98\u001b[0m \u001b[32m━━━━━━━━━━━━━━━━━━━━\u001b[0m\u001b[37m\u001b[0m \u001b[1m16s\u001b[0m 155ms/step - accuracy: 0.0333 - loss: 3.5741 - val_accuracy: 0.0285 - val_loss: 3.5863\n",
      "Epoch 15/30\n",
      "\u001b[1m98/98\u001b[0m \u001b[32m━━━━━━━━━━━━━━━━━━━━\u001b[0m\u001b[37m\u001b[0m \u001b[1m16s\u001b[0m 157ms/step - accuracy: 0.0305 - loss: 3.5751 - val_accuracy: 0.0285 - val_loss: 3.5865\n",
      "Epoch 16/30\n",
      "\u001b[1m98/98\u001b[0m \u001b[32m━━━━━━━━━━━━━━━━━━━━\u001b[0m\u001b[37m\u001b[0m \u001b[1m16s\u001b[0m 160ms/step - accuracy: 0.0335 - loss: 3.5751 - val_accuracy: 0.0285 - val_loss: 3.5867\n",
      "Epoch 17/30\n",
      "\u001b[1m98/98\u001b[0m \u001b[32m━━━━━━━━━━━━━━━━━━━━\u001b[0m\u001b[37m\u001b[0m \u001b[1m16s\u001b[0m 159ms/step - accuracy: 0.0330 - loss: 3.5736 - val_accuracy: 0.0285 - val_loss: 3.5868\n",
      "Epoch 18/30\n",
      "\u001b[1m98/98\u001b[0m \u001b[32m━━━━━━━━━━━━━━━━━━━━\u001b[0m\u001b[37m\u001b[0m \u001b[1m16s\u001b[0m 159ms/step - accuracy: 0.0271 - loss: 3.5781 - val_accuracy: 0.0285 - val_loss: 3.5870\n",
      "Epoch 19/30\n",
      "\u001b[1m98/98\u001b[0m \u001b[32m━━━━━━━━━━━━━━━━━━━━\u001b[0m\u001b[37m\u001b[0m \u001b[1m16s\u001b[0m 161ms/step - accuracy: 0.0292 - loss: 3.5771 - val_accuracy: 0.0285 - val_loss: 3.5872\n",
      "Epoch 20/30\n",
      "\u001b[1m98/98\u001b[0m \u001b[32m━━━━━━━━━━━━━━━━━━━━\u001b[0m\u001b[37m\u001b[0m \u001b[1m16s\u001b[0m 159ms/step - accuracy: 0.0343 - loss: 3.5766 - val_accuracy: 0.0256 - val_loss: 3.5873\n",
      "Epoch 21/30\n",
      "\u001b[1m98/98\u001b[0m \u001b[32m━━━━━━━━━━━━━━━━━━━━\u001b[0m\u001b[37m\u001b[0m \u001b[1m16s\u001b[0m 158ms/step - accuracy: 0.0284 - loss: 3.5777 - val_accuracy: 0.0256 - val_loss: 3.5875\n",
      "Epoch 22/30\n",
      "\u001b[1m98/98\u001b[0m \u001b[32m━━━━━━━━━━━━━━━━━━━━\u001b[0m\u001b[37m\u001b[0m \u001b[1m16s\u001b[0m 161ms/step - accuracy: 0.0340 - loss: 3.5770 - val_accuracy: 0.0285 - val_loss: 3.5876\n",
      "Epoch 23/30\n",
      "\u001b[1m98/98\u001b[0m \u001b[32m━━━━━━━━━━━━━━━━━━━━\u001b[0m\u001b[37m\u001b[0m \u001b[1m16s\u001b[0m 156ms/step - accuracy: 0.0314 - loss: 3.5777 - val_accuracy: 0.0256 - val_loss: 3.5877\n",
      "Epoch 24/30\n",
      "\u001b[1m98/98\u001b[0m \u001b[32m━━━━━━━━━━━━━━━━━━━━\u001b[0m\u001b[37m\u001b[0m \u001b[1m16s\u001b[0m 160ms/step - accuracy: 0.0312 - loss: 3.5770 - val_accuracy: 0.0256 - val_loss: 3.5879\n",
      "Epoch 25/30\n",
      "\u001b[1m98/98\u001b[0m \u001b[32m━━━━━━━━━━━━━━━━━━━━\u001b[0m\u001b[37m\u001b[0m \u001b[1m16s\u001b[0m 165ms/step - accuracy: 0.0255 - loss: 3.5773 - val_accuracy: 0.0256 - val_loss: 3.5879\n",
      "Epoch 26/30\n",
      "\u001b[1m98/98\u001b[0m \u001b[32m━━━━━━━━━━━━━━━━━━━━\u001b[0m\u001b[37m\u001b[0m \u001b[1m16s\u001b[0m 158ms/step - accuracy: 0.0246 - loss: 3.5777 - val_accuracy: 0.0256 - val_loss: 3.5880\n",
      "Epoch 27/30\n",
      "\u001b[1m98/98\u001b[0m \u001b[32m━━━━━━━━━━━━━━━━━━━━\u001b[0m\u001b[37m\u001b[0m \u001b[1m17s\u001b[0m 167ms/step - accuracy: 0.0289 - loss: 3.5773 - val_accuracy: 0.0256 - val_loss: 3.5881\n",
      "Epoch 28/30\n",
      "\u001b[1m98/98\u001b[0m \u001b[32m━━━━━━━━━━━━━━━━━━━━\u001b[0m\u001b[37m\u001b[0m \u001b[1m16s\u001b[0m 160ms/step - accuracy: 0.0333 - loss: 3.5765 - val_accuracy: 0.0256 - val_loss: 3.5882\n",
      "Epoch 29/30\n",
      "\u001b[1m98/98\u001b[0m \u001b[32m━━━━━━━━━━━━━━━━━━━━\u001b[0m\u001b[37m\u001b[0m \u001b[1m16s\u001b[0m 165ms/step - accuracy: 0.0324 - loss: 3.5778 - val_accuracy: 0.0256 - val_loss: 3.5883\n",
      "Epoch 30/30\n",
      "\u001b[1m98/98\u001b[0m \u001b[32m━━━━━━━━━━━━━━━━━━━━\u001b[0m\u001b[37m\u001b[0m \u001b[1m16s\u001b[0m 159ms/step - accuracy: 0.0310 - loss: 3.5775 - val_accuracy: 0.0256 - val_loss: 3.5884\n"
     ]
    }
   ],
   "source": [
    "#trainning phase\n",
    "training_history = cnn.fit(x = training_set,validation_data  = validation_set,epochs = 30)"
   ]
  },
  {
   "cell_type": "code",
   "execution_count": 16,
   "id": "5323ae3c-c40c-477e-986f-2e9231a75dba",
   "metadata": {},
   "outputs": [
    {
     "name": "stderr",
     "output_type": "stream",
     "text": [
      "WARNING:absl:You are saving your model as an HDF5 file via `model.save()` or `keras.saving.save_model(model)`. This file format is considered legacy. We recommend using instead the native Keras format, e.g. `model.save('my_model.keras')` or `keras.saving.save_model(model, 'my_model.keras')`. \n"
     ]
    }
   ],
   "source": [
    "#saving the model in h5 file\n",
    "cnn.save('raw_model.h5')"
   ]
  },
  {
   "cell_type": "code",
   "execution_count": 17,
   "id": "d724b7d3-3b98-4fc4-85cc-52165a295291",
   "metadata": {},
   "outputs": [],
   "source": [
    "#saving the model in keras file\n",
    "cnn.save('raw_model.keras')"
   ]
  },
  {
   "cell_type": "code",
   "execution_count": 18,
   "id": "41d916fa-b4cb-499e-afed-5feb7a531eb5",
   "metadata": {
    "scrolled": true
   },
   "outputs": [
    {
     "data": {
      "text/plain": [
       "{'accuracy': [0.031139647588133812,\n",
       "  0.02921348251402378,\n",
       "  0.031139647588133812,\n",
       "  0.028250401839613914,\n",
       "  0.03210273012518883,\n",
       "  0.033707864582538605,\n",
       "  0.03242375701665878,\n",
       "  0.03242375701665878,\n",
       "  0.03242375701665878,\n",
       "  0.03242375701665878,\n",
       "  0.03242375701665878,\n",
       "  0.03242375701665878,\n",
       "  0.03242375701665878,\n",
       "  0.02921348251402378,\n",
       "  0.02921348251402378,\n",
       "  0.030176565051078796,\n",
       "  0.02921348251402378,\n",
       "  0.027608346194028854,\n",
       "  0.026966292411088943,\n",
       "  0.030497591942548752,\n",
       "  0.028892455622553825,\n",
       "  0.02985553815960884,\n",
       "  0.028250401839613914,\n",
       "  0.027608346194028854,\n",
       "  0.026003209874033928,\n",
       "  0.02792937308549881,\n",
       "  0.02792937308549881,\n",
       "  0.030818618834018707,\n",
       "  0.03210273012518883,\n",
       "  0.03178170323371887],\n",
       " 'loss': [176.98406982421875,\n",
       "  3.913829803466797,\n",
       "  3.6250319480895996,\n",
       "  3.634467124938965,\n",
       "  3.5836896896362305,\n",
       "  4.881145477294922,\n",
       "  3.5791730880737305,\n",
       "  3.5788488388061523,\n",
       "  3.5786139965057373,\n",
       "  3.578359842300415,\n",
       "  3.5781867504119873,\n",
       "  3.5780351161956787,\n",
       "  3.5779073238372803,\n",
       "  3.577775239944458,\n",
       "  3.577686309814453,\n",
       "  3.577604293823242,\n",
       "  3.5771660804748535,\n",
       "  3.5786635875701904,\n",
       "  3.578610420227051,\n",
       "  3.5785796642303467,\n",
       "  3.5785255432128906,\n",
       "  3.5785140991210938,\n",
       "  3.578491687774658,\n",
       "  3.5784835815429688,\n",
       "  3.5784614086151123,\n",
       "  3.5784974098205566,\n",
       "  3.5784356594085693,\n",
       "  3.578442335128784,\n",
       "  3.578418731689453,\n",
       "  3.5784428119659424],\n",
       " 'val_accuracy': [0.03418803587555885,\n",
       "  0.03418803587555885,\n",
       "  0.028490029275417328,\n",
       "  0.025641025975346565,\n",
       "  0.025641025975346565,\n",
       "  0.025641025975346565,\n",
       "  0.025641025975346565,\n",
       "  0.025641025975346565,\n",
       "  0.025641025975346565,\n",
       "  0.025641025975346565,\n",
       "  0.025641025975346565,\n",
       "  0.025641025975346565,\n",
       "  0.025641025975346565,\n",
       "  0.028490029275417328,\n",
       "  0.028490029275417328,\n",
       "  0.028490029275417328,\n",
       "  0.028490029275417328,\n",
       "  0.028490029275417328,\n",
       "  0.028490029275417328,\n",
       "  0.025641025975346565,\n",
       "  0.025641025975346565,\n",
       "  0.028490029275417328,\n",
       "  0.025641025975346565,\n",
       "  0.025641025975346565,\n",
       "  0.025641025975346565,\n",
       "  0.025641025975346565,\n",
       "  0.025641025975346565,\n",
       "  0.025641025975346565,\n",
       "  0.025641025975346565,\n",
       "  0.025641025975346565],\n",
       " 'val_loss': [3.5770840644836426,\n",
       "  3.5684988498687744,\n",
       "  3.583712339401245,\n",
       "  3.5838959217071533,\n",
       "  3.5840981006622314,\n",
       "  3.584341287612915,\n",
       "  3.5846023559570312,\n",
       "  3.584836483001709,\n",
       "  3.5850846767425537,\n",
       "  3.5853159427642822,\n",
       "  3.5855493545532227,\n",
       "  3.5857698917388916,\n",
       "  3.586026430130005,\n",
       "  3.586251974105835,\n",
       "  3.5864710807800293,\n",
       "  3.5866549015045166,\n",
       "  3.5868396759033203,\n",
       "  3.5870330333709717,\n",
       "  3.5871787071228027,\n",
       "  3.5873312950134277,\n",
       "  3.587468385696411,\n",
       "  3.5876123905181885,\n",
       "  3.58772611618042,\n",
       "  3.587855815887451,\n",
       "  3.587908983230591,\n",
       "  3.5880143642425537,\n",
       "  3.5881361961364746,\n",
       "  3.588226556777954,\n",
       "  3.588315963745117,\n",
       "  3.5884146690368652]}"
      ]
     },
     "execution_count": 18,
     "metadata": {},
     "output_type": "execute_result"
    }
   ],
   "source": [
    "#creating the history of the model\n",
    "training_history.history"
   ]
  },
  {
   "cell_type": "code",
   "execution_count": 19,
   "id": "7806baa1-a17e-4db9-a99c-8ddd1bf1a58e",
   "metadata": {},
   "outputs": [],
   "source": [
    "#recordinng the history of the model\n",
    "import json\n",
    "with open('training_hist.json','w') as f:\n",
    "    json.dump(training_history.history,f)"
   ]
  },
  {
   "cell_type": "code",
   "execution_count": 20,
   "id": "76a87bdc-79bd-4e13-b77a-6a99ac674a8d",
   "metadata": {},
   "outputs": [
    {
     "name": "stdout",
     "output_type": "stream",
     "text": [
      "validation set Accuracy : 2.5641025975346565 %\n"
     ]
    }
   ],
   "source": [
    "#calculating the accuracy of the the model achieved on validation\n",
    "print(\"validation set Accuracy : {} %\".format(training_history.history['val_accuracy'][-1]*100))"
   ]
  },
  {
   "cell_type": "code",
   "execution_count": 21,
   "id": "f80179d1-0c35-4846-bd26-7e0c03ef8a1e",
   "metadata": {},
   "outputs": [
    {
     "data": {
      "image/png": "[encoded data removed]",
      "text/plain": [
       "<Figure size 640x480 with 1 Axes>"
      ]
     },
     "metadata": {},
     "output_type": "display_data"
    }
   ],
   "source": [
    "#visulation of the training accuracy\n",
    "epochs = [i for i in range(1,31)]\n",
    "plt.plot(epochs,training_history.history['accuracy'],color = 'red')\n",
    "plt.xlabel('no. of epochs')\n",
    "plt.ylabel('Training Accuracy')\n",
    "plt.title('Visulisation of the Training Accuracy Result')\n",
    "plt.show()"
   ]
  },
  {
   "cell_type": "code",
   "execution_count": 22,
   "id": "a74048e4-a07b-4b73-b00d-d3a389e179f2",
   "metadata": {},
   "outputs": [
    {
     "data": {
      "image/png": "[encoded data removed]",
      "text/plain": [
       "<Figure size 640x480 with 1 Axes>"
      ]
     },
     "metadata": {},
     "output_type": "display_data"
    }
   ],
   "source": [
    "#visulisation of validation accuracy\n",
    "plt.plot(epochs,training_history.history['val_accuracy'],color = 'blue')\n",
    "plt.xlabel('No. of Epochs')\n",
    "plt.ylabel('Validation Accuracy')\n",
    "plt.title('Visulisation of validation Accuracy Result')\n",
    "plt.show()"
   ]
  },
  {
   "cell_type": "code",
   "execution_count": null,
   "id": "d88eff3b-99f1-432a-a519-8fbd2ca5b39c",
   "metadata": {},
   "outputs": [],
   "source": []
  }
 ],
 "metadata": {
  "kernelspec": {
   "display_name": "Python 3 (ipykernel)",
   "language": "python",
   "name": "python3"
  },
  "language_info": {
   "codemirror_mode": {
    "name": "ipython",
    "version": 3
   },
   "file_extension": ".py",
   "mimetype": "text/x-python",
   "name": "python",
   "nbconvert_exporter": "python",
   "pygments_lexer": "ipython3",
   "version": "3.12.3"
  }
 },
 "nbformat": 4,
 "nbformat_minor": 5
}
