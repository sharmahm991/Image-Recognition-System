{
 "cells": [
  {
   "cell_type": "code",
   "execution_count": 1,
   "id": "44a2f378-6e2a-4037-9e51-37107bc14898",
   "metadata": {},
   "outputs": [],
   "source": [
    "##importing libraries\n",
    "import pandas as pd\n",
    "import tensorflow as tf\n",
    "import seaborn as sns\n",
    "import matplotlib.pyplot as plt"
   ]
  },
  {
   "cell_type": "code",
   "execution_count": 2,
   "id": "6821945d-8cfd-4aae-a5f6-93e817c516f8",
   "metadata": {},
   "outputs": [],
   "source": [
    "import zipfile"
   ]
  },
  {
   "cell_type": "code",
   "execution_count": 3,
   "id": "31387ee8-0acd-4012-a71a-71276c3a863d",
   "metadata": {
    "scrolled": true
   },
   "outputs": [
    {
     "name": "stdout",
     "output_type": "stream",
     "text": [
      "Extracting all the files now...\n",
      "Done!\n"
     ]
    }
   ],
   "source": [
    "# specifying the zip file name \n",
    "file_name = \"archive (3).zip\"\n",
    "# opening the zip file in READ mode \n",
    "with zipfile.ZipFile(file_name, 'r') as zip: \n",
    "\t# printing all the contents of the zip file \n",
    "\n",
    "\t# extracting all the files \n",
    "\tprint('Extracting all the files now...') \n",
    "\tzip.extractall() \n",
    "\tprint('Done!') \n"
   ]
  },
  {
   "cell_type": "code",
   "execution_count": null,
   "id": "28b26c47-74b6-4aaa-a41f-b04bcb3f018f",
   "metadata": {},
   "outputs": [],
   "source": []
  },
  {
   "cell_type": "code",
   "execution_count": null,
   "id": "d84df8c4-9df1-459b-a0de-d34a0844538f",
   "metadata": {},
   "outputs": [],
   "source": []
  },
  {
   "cell_type": "code",
   "execution_count": null,
   "id": "823c4402-ca73-4884-bdaa-4c893316c743",
   "metadata": {},
   "outputs": [],
   "source": []
  },
  {
   "cell_type": "code",
   "execution_count": 10,
   "id": "86226dfa-a126-4fd0-88c7-363347e6704e",
   "metadata": {},
   "outputs": [
    {
     "name": "stdout",
     "output_type": "stream",
     "text": [
      "Found 3115 files belonging to 36 classes.\n"
     ]
    }
   ],
   "source": [
    "#data preprocessing\n",
    "training_set = tf.keras.utils.image_dataset_from_directory(\n",
    "    'train',\n",
    "    labels=\"inferred\",\n",
    "    label_mode=\"categorical\",\n",
    "    class_names=None,\n",
    "    color_mode=\"rgb\",\n",
    "    batch_size=32,\n",
    "    image_size=(64, 64),\n",
    "    shuffle=True,\n",
    "    seed=None,\n",
    "    validation_split=None,\n",
    "    subset=None,\n",
    "    interpolation=\"bilinear\",\n",
    "    follow_links=False,\n",
    "    crop_to_aspect_ratio=False,\n",
    "    pad_to_aspect_ratio=False,\n",
    "    data_format=None,\n",
    "    verbose=True,\n",
    ")"
   ]
  },
  {
   "cell_type": "code",
   "execution_count": 11,
   "id": "994064ed-7a70-4d42-a449-73ffcb014d23",
   "metadata": {},
   "outputs": [
    {
     "name": "stdout",
     "output_type": "stream",
     "text": [
      "Found 351 files belonging to 36 classes.\n"
     ]
    }
   ],
   "source": [
    "#validation image preprocessing\n",
    "validation_set = tf.keras.utils.image_dataset_from_directory(\n",
    "    'validation',\n",
    "    labels=\"inferred\",\n",
    "    label_mode=\"categorical\",\n",
    "    class_names=None,\n",
    "    color_mode=\"rgb\",\n",
    "    batch_size=32,\n",
    "    image_size=(64, 64),\n",
    "    shuffle=True,\n",
    "    seed=None,\n",
    "    validation_split=None,\n",
    "    subset=None,\n",
    "    interpolation=\"bilinear\",\n",
    "    follow_links=False,\n",
    "    crop_to_aspect_ratio=False,\n",
    "    pad_to_aspect_ratio=False,\n",
    "    data_format=None,\n",
    "    verbose=True,\n",
    ")"
   ]
  },
  {
   "cell_type": "code",
   "execution_count": 20,
   "id": "c75719a3-bfd0-4b55-8862-1d1728c8f8d9",
   "metadata": {},
   "outputs": [],
   "source": [
    "#building model\n",
    "cnn = tf.keras.models.Sequential()"
   ]
  },
  {
   "cell_type": "code",
   "execution_count": 1,
   "id": "d8d4a2a6-bc83-4d54-bfb6-c4a7ba187597",
   "metadata": {},
   "outputs": [
    {
     "ename": "NameError",
     "evalue": "name 'tf' is not defined",
     "output_type": "error",
     "traceback": [
      "\u001b[1;31m---------------------------------------------------------------------------\u001b[0m",
      "\u001b[1;31mNameError\u001b[0m                                 Traceback (most recent call last)",
      "Cell \u001b[1;32mIn[1], line 1\u001b[0m\n\u001b[1;32m----> 1\u001b[0m cnn \u001b[38;5;241m=\u001b[39m \u001b[43mtf\u001b[49m\u001b[38;5;241m.\u001b[39mkeras\u001b[38;5;241m.\u001b[39mSequential([tf\u001b[38;5;241m.\u001b[39mkeras\u001b[38;5;241m.\u001b[39mlayers\u001b[38;5;241m.\u001b[39mRescaling(\u001b[38;5;241m1.0\u001b[39m \u001b[38;5;241m/\u001b[39m \u001b[38;5;241m255\u001b[39m)])\n",
      "\u001b[1;31mNameError\u001b[0m: name 'tf' is not defined"
     ]
    }
   ],
   "source": [
    "cnn = tf.keras.Sequential([tf.keras.layers.Rescaling(1.0 / 255)])\n"
   ]
  },
  {
   "cell_type": "code",
   "execution_count": 13,
   "id": "d73c78ca-a09a-4538-8ba3-67075587d4ca",
   "metadata": {},
   "outputs": [],
   "source": [
    "#here we are decressing the size of the matrix so that we can use those features which are important for our model\n",
    "cnn.add(tf.keras.layers.Conv2D(filters=64, kernel_size=3, activation='relu'))\n",
    "cnn.add(tf.keras.layers.MaxPool2D(pool_size=2, strides=2))"
   ]
  },
  {
   "cell_type": "code",
   "execution_count": null,
   "id": "223ec536-fdd5-4345-9f5d-bb9f07b282b3",
   "metadata": {},
   "outputs": [],
   "source": []
  },
  {
   "cell_type": "code",
   "execution_count": 15,
   "id": "e5dbc109-e991-4868-a583-a8d6e7c50f49",
   "metadata": {},
   "outputs": [],
   "source": [
    "#to avoid overfitting we are passing these arguments\n",
    "cnn.add(tf.keras.layers.Dropout(0.5))"
   ]
  },
  {
   "cell_type": "code",
   "execution_count": 16,
   "id": "f0aaa8a6-bca4-423a-8729-0875ca9b85b2",
   "metadata": {},
   "outputs": [],
   "source": [
    "#here we are flattening our matrix\n",
    "cnn.add(tf.keras.layers.Flatten())"
   ]
  },
  {
   "cell_type": "code",
   "execution_count": 17,
   "id": "0b8fdf01-7be6-490b-adc4-5f1471e6749b",
   "metadata": {},
   "outputs": [],
   "source": [
    "#making the neurons\n",
    "cnn.add(tf.keras.layers.Dense(units = 128, activation = 'relu'))"
   ]
  },
  {
   "cell_type": "code",
   "execution_count": 18,
   "id": "d3b8c430-920d-4f9a-9af1-eaf71cf89f86",
   "metadata": {},
   "outputs": [],
   "source": [
    "#collect output layer\n",
    "cnn.add(tf.keras.layers.Dense(units = 36, activation = 'softmax'))"
   ]
  },
  {
   "cell_type": "code",
   "execution_count": 19,
   "id": "ca693226-c4c0-492b-b297-7047bea52e88",
   "metadata": {},
   "outputs": [],
   "source": [
    "#compilling phase\n",
    "cnn.compile(optimizer = 'rmsprop',loss = 'categorical_crossentropy',metrics = ['accuracy'])"
   ]
  },
  {
   "cell_type": "code",
   "execution_count": 16,
   "id": "460249e2-eef9-48c8-9c95-ccfad6621344",
   "metadata": {},
   "outputs": [
    {
     "name": "stdout",
     "output_type": "stream",
     "text": [
      "Epoch 1/30\n",
      "\u001b[1m98/98\u001b[0m \u001b[32m━━━━━━━━━━━━━━━━━━━━\u001b[0m\u001b[37m\u001b[0m \u001b[1m84s\u001b[0m 851ms/step - accuracy: 0.8693 - loss: 1.0178 - val_accuracy: 0.9544 - val_loss: 0.9232\n",
      "Epoch 2/30\n",
      "\u001b[1m98/98\u001b[0m \u001b[32m━━━━━━━━━━━━━━━━━━━━\u001b[0m\u001b[37m\u001b[0m \u001b[1m91s\u001b[0m 918ms/step - accuracy: 0.8633 - loss: 0.8334 - val_accuracy: 0.9259 - val_loss: 1.4681\n",
      "Epoch 3/30\n",
      "\u001b[1m98/98\u001b[0m \u001b[32m━━━━━━━━━━━━━━━━━━━━\u001b[0m\u001b[37m\u001b[0m \u001b[1m60s\u001b[0m 593ms/step - accuracy: 0.8795 - loss: 0.8851 - val_accuracy: 0.9544 - val_loss: 1.4579\n",
      "Epoch 4/30\n",
      "\u001b[1m98/98\u001b[0m \u001b[32m━━━━━━━━━━━━━━━━━━━━\u001b[0m\u001b[37m\u001b[0m \u001b[1m70s\u001b[0m 717ms/step - accuracy: 0.9015 - loss: 0.5661 - val_accuracy: 0.9459 - val_loss: 1.7070\n",
      "Epoch 5/30\n",
      "\u001b[1m98/98\u001b[0m \u001b[32m━━━━━━━━━━━━━━━━━━━━\u001b[0m\u001b[37m\u001b[0m \u001b[1m101s\u001b[0m 892ms/step - accuracy: 0.8947 - loss: 0.8731 - val_accuracy: 0.9459 - val_loss: 1.2100\n",
      "Epoch 6/30\n",
      "\u001b[1m98/98\u001b[0m \u001b[32m━━━━━━━━━━━━━━━━━━━━\u001b[0m\u001b[37m\u001b[0m \u001b[1m84s\u001b[0m 864ms/step - accuracy: 0.9047 - loss: 0.8238 - val_accuracy: 0.9345 - val_loss: 1.5190\n",
      "Epoch 7/30\n",
      "\u001b[1m98/98\u001b[0m \u001b[32m━━━━━━━━━━━━━━━━━━━━\u001b[0m\u001b[37m\u001b[0m \u001b[1m88s\u001b[0m 878ms/step - accuracy: 0.8934 - loss: 0.7646 - val_accuracy: 0.9544 - val_loss: 1.4399\n",
      "Epoch 8/30\n",
      "\u001b[1m98/98\u001b[0m \u001b[32m━━━━━━━━━━━━━━━━━━━━\u001b[0m\u001b[37m\u001b[0m \u001b[1m92s\u001b[0m 923ms/step - accuracy: 0.9032 - loss: 0.6275 - val_accuracy: 0.9373 - val_loss: 1.7447\n",
      "Epoch 9/30\n",
      "\u001b[1m98/98\u001b[0m \u001b[32m━━━━━━━━━━━━━━━━━━━━\u001b[0m\u001b[37m\u001b[0m \u001b[1m83s\u001b[0m 831ms/step - accuracy: 0.9138 - loss: 0.5977 - val_accuracy: 0.9288 - val_loss: 1.0940\n",
      "Epoch 10/30\n",
      "\u001b[1m98/98\u001b[0m \u001b[32m━━━━━━━━━━━━━━━━━━━━\u001b[0m\u001b[37m\u001b[0m \u001b[1m87s\u001b[0m 843ms/step - accuracy: 0.9105 - loss: 0.6602 - val_accuracy: 0.9544 - val_loss: 1.6796\n",
      "Epoch 11/30\n",
      "\u001b[1m98/98\u001b[0m \u001b[32m━━━━━━━━━━━━━━━━━━━━\u001b[0m\u001b[37m\u001b[0m \u001b[1m86s\u001b[0m 865ms/step - accuracy: 0.9035 - loss: 0.7570 - val_accuracy: 0.9601 - val_loss: 1.8545\n",
      "Epoch 12/30\n",
      "\u001b[1m98/98\u001b[0m \u001b[32m━━━━━━━━━━━━━━━━━━━━\u001b[0m\u001b[37m\u001b[0m \u001b[1m84s\u001b[0m 848ms/step - accuracy: 0.9246 - loss: 0.6258 - val_accuracy: 0.9373 - val_loss: 1.7891\n",
      "Epoch 13/30\n",
      "\u001b[1m98/98\u001b[0m \u001b[32m━━━━━━━━━━━━━━━━━━━━\u001b[0m\u001b[37m\u001b[0m \u001b[1m93s\u001b[0m 935ms/step - accuracy: 0.9057 - loss: 0.7884 - val_accuracy: 0.9487 - val_loss: 1.6250\n",
      "Epoch 14/30\n",
      "\u001b[1m98/98\u001b[0m \u001b[32m━━━━━━━━━━━━━━━━━━━━\u001b[0m\u001b[37m\u001b[0m \u001b[1m90s\u001b[0m 838ms/step - accuracy: 0.9239 - loss: 0.6252 - val_accuracy: 0.9231 - val_loss: 1.7973\n",
      "Epoch 15/30\n",
      "\u001b[1m98/98\u001b[0m \u001b[32m━━━━━━━━━━━━━━━━━━━━\u001b[0m\u001b[37m\u001b[0m \u001b[1m82s\u001b[0m 830ms/step - accuracy: 0.9089 - loss: 0.8437 - val_accuracy: 0.9487 - val_loss: 1.5963\n",
      "Epoch 16/30\n",
      "\u001b[1m98/98\u001b[0m \u001b[32m━━━━━━━━━━━━━━━━━━━━\u001b[0m\u001b[37m\u001b[0m \u001b[1m92s\u001b[0m 932ms/step - accuracy: 0.9278 - loss: 0.6143 - val_accuracy: 0.9288 - val_loss: 2.6016\n",
      "Epoch 17/30\n",
      "\u001b[1m98/98\u001b[0m \u001b[32m━━━━━━━━━━━━━━━━━━━━\u001b[0m\u001b[37m\u001b[0m \u001b[1m95s\u001b[0m 952ms/step - accuracy: 0.9098 - loss: 0.9424 - val_accuracy: 0.9430 - val_loss: 1.8087\n",
      "Epoch 18/30\n",
      "\u001b[1m98/98\u001b[0m \u001b[32m━━━━━━━━━━━━━━━━━━━━\u001b[0m\u001b[37m\u001b[0m \u001b[1m92s\u001b[0m 921ms/step - accuracy: 0.9057 - loss: 0.9207 - val_accuracy: 0.9544 - val_loss: 2.4472\n",
      "Epoch 19/30\n",
      "\u001b[1m98/98\u001b[0m \u001b[32m━━━━━━━━━━━━━━━━━━━━\u001b[0m\u001b[37m\u001b[0m \u001b[1m92s\u001b[0m 939ms/step - accuracy: 0.9309 - loss: 0.5515 - val_accuracy: 0.9544 - val_loss: 2.0424\n",
      "Epoch 20/30\n",
      "\u001b[1m98/98\u001b[0m \u001b[32m━━━━━━━━━━━━━━━━━━━━\u001b[0m\u001b[37m\u001b[0m \u001b[1m77s\u001b[0m 743ms/step - accuracy: 0.9208 - loss: 0.5911 - val_accuracy: 0.9487 - val_loss: 2.4779\n",
      "Epoch 21/30\n",
      "\u001b[1m98/98\u001b[0m \u001b[32m━━━━━━━━━━━━━━━━━━━━\u001b[0m\u001b[37m\u001b[0m \u001b[1m69s\u001b[0m 684ms/step - accuracy: 0.9228 - loss: 0.6990 - val_accuracy: 0.9544 - val_loss: 1.5653\n",
      "Epoch 22/30\n",
      "\u001b[1m98/98\u001b[0m \u001b[32m━━━━━━━━━━━━━━━━━━━━\u001b[0m\u001b[37m\u001b[0m \u001b[1m82s\u001b[0m 822ms/step - accuracy: 0.9254 - loss: 0.5890 - val_accuracy: 0.8575 - val_loss: 3.8063\n",
      "Epoch 23/30\n",
      "\u001b[1m98/98\u001b[0m \u001b[32m━━━━━━━━━━━━━━━━━━━━\u001b[0m\u001b[37m\u001b[0m \u001b[1m56s\u001b[0m 545ms/step - accuracy: 0.9073 - loss: 0.9534 - val_accuracy: 0.9202 - val_loss: 2.9150\n",
      "Epoch 24/30\n",
      "\u001b[1m98/98\u001b[0m \u001b[32m━━━━━━━━━━━━━━━━━━━━\u001b[0m\u001b[37m\u001b[0m \u001b[1m87s\u001b[0m 849ms/step - accuracy: 0.9359 - loss: 0.7335 - val_accuracy: 0.8889 - val_loss: 2.8099\n",
      "Epoch 25/30\n",
      "\u001b[1m98/98\u001b[0m \u001b[32m━━━━━━━━━━━━━━━━━━━━\u001b[0m\u001b[37m\u001b[0m \u001b[1m142s\u001b[0m 825ms/step - accuracy: 0.9222 - loss: 0.7036 - val_accuracy: 0.9345 - val_loss: 2.8135\n",
      "Epoch 26/30\n",
      "\u001b[1m98/98\u001b[0m \u001b[32m━━━━━━━━━━━━━━━━━━━━\u001b[0m\u001b[37m\u001b[0m \u001b[1m76s\u001b[0m 751ms/step - accuracy: 0.9229 - loss: 0.7247 - val_accuracy: 0.9516 - val_loss: 2.5024\n",
      "Epoch 27/30\n",
      "\u001b[1m98/98\u001b[0m \u001b[32m━━━━━━━━━━━━━━━━━━━━\u001b[0m\u001b[37m\u001b[0m \u001b[1m101s\u001b[0m 925ms/step - accuracy: 0.9277 - loss: 0.7542 - val_accuracy: 0.9402 - val_loss: 2.7082\n",
      "Epoch 28/30\n",
      "\u001b[1m98/98\u001b[0m \u001b[32m━━━━━━━━━━━━━━━━━━━━\u001b[0m\u001b[37m\u001b[0m \u001b[1m62s\u001b[0m 616ms/step - accuracy: 0.9264 - loss: 0.7428 - val_accuracy: 0.9430 - val_loss: 2.6864\n",
      "Epoch 29/30\n",
      "\u001b[1m98/98\u001b[0m \u001b[32m━━━━━━━━━━━━━━━━━━━━\u001b[0m\u001b[37m\u001b[0m \u001b[1m110s\u001b[0m 907ms/step - accuracy: 0.9313 - loss: 0.8732 - val_accuracy: 0.9601 - val_loss: 2.5411\n",
      "Epoch 30/30\n",
      "\u001b[1m98/98\u001b[0m \u001b[32m━━━━━━━━━━━━━━━━━━━━\u001b[0m\u001b[37m\u001b[0m \u001b[1m95s\u001b[0m 934ms/step - accuracy: 0.9315 - loss: 0.7235 - val_accuracy: 0.9316 - val_loss: 2.2827\n"
     ]
    }
   ],
   "source": [
    "#trainning phase\n",
    "training_history = cnn.fit(x = training_set, validation_data = validation_set,epochs = 30)"
   ]
  },
  {
   "cell_type": "code",
   "execution_count": 1,
   "id": "e797a01c-7bbb-4f98-8382-dccf8d7cdfc2",
   "metadata": {},
   "outputs": [
    {
     "ename": "NameError",
     "evalue": "name 'cnn' is not defined",
     "output_type": "error",
     "traceback": [
      "\u001b[1;31m---------------------------------------------------------------------------\u001b[0m",
      "\u001b[1;31mNameError\u001b[0m                                 Traceback (most recent call last)",
      "Cell \u001b[1;32mIn[1], line 1\u001b[0m\n\u001b[1;32m----> 1\u001b[0m \u001b[43mcnn\u001b[49m\u001b[38;5;241m.\u001b[39msave(\u001b[38;5;124m'\u001b[39m\u001b[38;5;124mtrained_model.h5\u001b[39m\u001b[38;5;124m'\u001b[39m)\n",
      "\u001b[1;31mNameError\u001b[0m: name 'cnn' is not defined"
     ]
    }
   ],
   "source": [
    "#saving the model in h5 file\n",
    "cnn.save('trained_model.h5')"
   ]
  },
  {
   "cell_type": "code",
   "execution_count": 2,
   "id": "b20b2ed5-06bd-4903-90f5-5dfe19cfb853",
   "metadata": {},
   "outputs": [
    {
     "ename": "NameError",
     "evalue": "name 'training_history' is not defined",
     "output_type": "error",
     "traceback": [
      "\u001b[1;31m---------------------------------------------------------------------------\u001b[0m",
      "\u001b[1;31mNameError\u001b[0m                                 Traceback (most recent call last)",
      "Cell \u001b[1;32mIn[2], line 1\u001b[0m\n\u001b[1;32m----> 1\u001b[0m \u001b[43mtraining_history\u001b[49m\u001b[38;5;241m.\u001b[39mhistory\n",
      "\u001b[1;31mNameError\u001b[0m: name 'training_history' is not defined"
     ]
    }
   ],
   "source": [
    "#creating the history of the model\n",
    "training_history.history"
   ]
  },
  {
   "cell_type": "code",
   "execution_count": 3,
   "id": "91dc51cd-5175-4cd8-ab25-a6da214ec621",
   "metadata": {},
   "outputs": [
    {
     "ename": "NameError",
     "evalue": "name 'training_history' is not defined",
     "output_type": "error",
     "traceback": [
      "\u001b[1;31m---------------------------------------------------------------------------\u001b[0m",
      "\u001b[1;31mNameError\u001b[0m                                 Traceback (most recent call last)",
      "Cell \u001b[1;32mIn[3], line 4\u001b[0m\n\u001b[0;32m      2\u001b[0m \u001b[38;5;28;01mimport\u001b[39;00m \u001b[38;5;21;01mjson\u001b[39;00m\n\u001b[0;32m      3\u001b[0m \u001b[38;5;28;01mwith\u001b[39;00m \u001b[38;5;28mopen\u001b[39m(\u001b[38;5;124m'\u001b[39m\u001b[38;5;124mtraining_hist.json\u001b[39m\u001b[38;5;124m'\u001b[39m,\u001b[38;5;124m'\u001b[39m\u001b[38;5;124mw\u001b[39m\u001b[38;5;124m'\u001b[39m) \u001b[38;5;28;01mas\u001b[39;00m f:\n\u001b[1;32m----> 4\u001b[0m     json\u001b[38;5;241m.\u001b[39mdump(\u001b[43mtraining_history\u001b[49m\u001b[38;5;241m.\u001b[39mhistory,f)\n",
      "\u001b[1;31mNameError\u001b[0m: name 'training_history' is not defined"
     ]
    }
   ],
   "source": [
    "#recording the history of the model\n",
    "import json\n",
    "with open('training_hist.json','w') as f:\n",
    "    json.dump(training_history.history,f)\n",
    "    "
   ]
  },
  {
   "cell_type": "code",
   "execution_count": null,
   "id": "f6eab626-c283-4bc3-9c69-43a63e9b32a6",
   "metadata": {},
   "outputs": [],
   "source": [
    "#calculating the accuracy of the model achieved on Validation\n",
    "print(\"validation set Accuracy : {} %\".format(training_history.history['val_accuracy'][-1]*100))"
   ]
  },
  {
   "cell_type": "code",
   "execution_count": null,
   "id": "ffeff63e-e4c8-436b-8416-6e44c43bb820",
   "metadata": {},
   "outputs": [],
   "source": []
  }
 ],
 "metadata": {
  "kernelspec": {
   "display_name": "Python 3 (ipykernel)",
   "language": "python",
   "name": "python3"
  },
  "language_info": {
   "codemirror_mode": {
    "name": "ipython",
    "version": 3
   },
   "file_extension": ".py",
   "mimetype": "text/x-python",
   "name": "python",
   "nbconvert_exporter": "python",
   "pygments_lexer": "ipython3",
   "version": "3.12.3"
  }
 },
 "nbformat": 4,
 "nbformat_minor": 5
}
